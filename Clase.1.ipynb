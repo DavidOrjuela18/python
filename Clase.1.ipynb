{
 "cells": [
  {
   "cell_type": "markdown",
   "id": "a6d18a42",
   "metadata": {},
   "source": [
    "# Clase 1"
   ]
  },
  {
   "cell_type": "markdown",
   "id": "f2250fb4",
   "metadata": {},
   "source": [
    "esta clase es para aprender a programar en phyton"
   ]
  },
  {
   "cell_type": "code",
   "execution_count": null,
   "id": "d81ac865",
   "metadata": {},
   "outputs": [],
   "source": [
    "a = 3\n",
    "b = 0\n",
    "if (a > b ):\n",
    "    print(a, \"es mayor\")\n",
    "else:\n",
    "    print(b, \"es mayor\")"
   ]
  },
  {
   "cell_type": "code",
   "execution_count": null,
   "id": "302a4699",
   "metadata": {},
   "outputs": [],
   "source": []
  }
 ],
 "metadata": {
  "kernelspec": {
   "display_name": "Python 3",
   "language": "python",
   "name": "python3"
  },
  "language_info": {
   "name": "python",
   "version": "3.11.9"
  }
 },
 "nbformat": 4,
 "nbformat_minor": 5
}
